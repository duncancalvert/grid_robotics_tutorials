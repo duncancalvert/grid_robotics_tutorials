{
 "cells": [
  {
   "cell_type": "markdown",
   "metadata": {},
   "source": [
    "# Car + Neighborhood + LLaVA"
   ]
  },
  {
   "cell_type": "code",
   "execution_count": null,
   "metadata": {},
   "outputs": [
    {
     "ename": "ModuleNotFoundError",
     "evalue": "No module named 'grid'",
     "output_type": "error",
     "traceback": [
      "\u001b[31m---------------------------------------------------------------------------\u001b[39m",
      "\u001b[31mModuleNotFoundError\u001b[39m                       Traceback (most recent call last)",
      "\u001b[36mCell\u001b[39m\u001b[36m \u001b[39m\u001b[32mIn[1]\u001b[39m\u001b[32m, line 1\u001b[39m\n\u001b[32m----> \u001b[39m\u001b[32m1\u001b[39m \u001b[38;5;28;01mfrom\u001b[39;00m\u001b[38;5;250m \u001b[39m\u001b[34;01mgrid\u001b[39;00m\u001b[34;01m.\u001b[39;00m\u001b[34;01mrobot\u001b[39;00m\u001b[34;01m.\u001b[39;00m\u001b[34;01mwheeled\u001b[39;00m\u001b[34;01m.\u001b[39;00m\u001b[34;01mairgen_car\u001b[39;00m\u001b[38;5;250m \u001b[39m\u001b[38;5;28;01mimport\u001b[39;00m AirGenCar\n\u001b[32m      2\u001b[39m car = AirGenCar()\n\u001b[32m      4\u001b[39m \u001b[38;5;28;01mfrom\u001b[39;00m\u001b[38;5;250m \u001b[39m\u001b[34;01mgrid\u001b[39;00m\u001b[34;01m.\u001b[39;00m\u001b[34;01mmodel\u001b[39;00m\u001b[34;01m.\u001b[39;00m\u001b[34;01mperception\u001b[39;00m\u001b[34;01m.\u001b[39;00m\u001b[34;01msegmentation\u001b[39;00m\u001b[34;01m.\u001b[39;00m\u001b[34;01mgsam\u001b[39;00m\u001b[38;5;250m \u001b[39m\u001b[38;5;28;01mimport\u001b[39;00m GroundedSAM\n",
      "\u001b[31mModuleNotFoundError\u001b[39m: No module named 'grid'"
     ]
    }
   ],
   "source": [
    "from grid.robot.wheeled.airgen_car import AirGenCar\n",
    "car = AirGenCar()\n",
    "\n",
    "from grid.model.perception.segmentation.gsam import GroundedSAM\n",
    "seg_gsam_0 = GroundedSAM()\n",
    "\n",
    "from grid.model.perception.vlm.llava import LLaVA\n",
    "\n",
    "# Get image\n",
    "img =  car.getImage(\"front_center\", \"rgb\").data\n",
    "\n",
    "model = LLaVA(use_local = False)\n",
    "result = model.run(img, prompt=\"am I about to hit anything in front of me\")\n",
    "print(result)"
   ]
  },
  {
   "cell_type": "code",
   "execution_count": null,
   "metadata": {},
   "outputs": [],
   "source": [
    "car.setCarControls(steering=0, throttle=1, brake=0)\n",
    "car.reset()"
   ]
  }
 ],
 "metadata": {
  "kernelspec": {
   "display_name": "Python 3",
   "language": "python",
   "name": "python3"
  },
  "language_info": {
   "codemirror_mode": {
    "name": "ipython",
    "version": 3
   },
   "file_extension": ".py",
   "mimetype": "text/x-python",
   "name": "python",
   "nbconvert_exporter": "python",
   "pygments_lexer": "ipython3",
   "version": "3.12.8"
  }
 },
 "nbformat": 4,
 "nbformat_minor": 2
}
